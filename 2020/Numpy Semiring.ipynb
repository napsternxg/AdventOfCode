{
 "cells": [
  {
   "cell_type": "code",
   "execution_count": 1,
   "metadata": {},
   "outputs": [],
   "source": [
    "import numpy as np"
   ]
  },
  {
   "cell_type": "code",
   "execution_count": 2,
   "metadata": {},
   "outputs": [
    {
     "data": {
      "text/plain": [
       "(array([[0, 1, 2, 3, 4]]), array([[ 0, -1, -2, -3, -4]]))"
      ]
     },
     "execution_count": 2,
     "metadata": {},
     "output_type": "execute_result"
    }
   ],
   "source": [
    "a = np.arange(5).reshape(1,5)\n",
    "b = -a\n",
    "a, b\n"
   ]
  },
  {
   "cell_type": "code",
   "execution_count": 3,
   "metadata": {},
   "outputs": [
    {
     "data": {
      "text/plain": [
       "array([[0, 1, 2, 3, 4]])"
      ]
     },
     "execution_count": 3,
     "metadata": {},
     "output_type": "execute_result"
    }
   ],
   "source": [
    "np.stack([a, b], axis=-1).max(axis=-1)"
   ]
  },
  {
   "cell_type": "code",
   "execution_count": 4,
   "metadata": {},
   "outputs": [],
   "source": [
    "class LogSemiring(np.ndarray):\n",
    "    def __new__(cls, x):\n",
    "        obj = np.asarray(x).view(cls)\n",
    "        return obj\n",
    "    \n",
    "    def __add__(self, x):\n",
    "        x = np.array(x)\n",
    "        cat_vals = np.stack([self, x], axis=-1)\n",
    "        max_vals = cat_vals.max(axis=-1, keepdims=True)\n",
    "        exp_vals = np.exp(cat_vals - max_vals).sum(axis=-1, keepdims=True)\n",
    "        log_add = max_vals + np.log(exp_vals)\n",
    "        return self.__class__(log_add.reshape(*x.shape))\n",
    "    \n",
    "    def __mul__(self, x):\n",
    "        x = np.array(x)\n",
    "        y = np.array(self)\n",
    "        return self.__class__(y + x)\n",
    "    \n",
    "    def __radd__(self, x):\n",
    "        return self.__add__(x)\n",
    "    \n",
    "    def __rmul__(self, x):\n",
    "        return self.__mul__(x)\n",
    "    \n",
    "class MaxPlusSemiring(np.ndarray):\n",
    "    def __new__(cls, x):\n",
    "        obj = np.asarray(x).view(cls)\n",
    "        return obj\n",
    "    \n",
    "    def __add__(self, x):\n",
    "        x = np.array(x)\n",
    "        cat_vals = np.stack([self, x], axis=-1)\n",
    "        max_vals = cat_vals.max(axis=-1)\n",
    "        return self.__class__(max_vals)\n",
    "    \n",
    "    def __mul__(self, x):\n",
    "        x = np.array(x)\n",
    "        y = np.array(self)\n",
    "        return self.__class__(y + x)\n",
    "    \n",
    "    def __radd__(self, x):\n",
    "        return self.__add__(x)\n",
    "    \n",
    "    def __rmul__(self, x):\n",
    "        return self.__mul__(x)\n",
    "    \n",
    "class MinPlusSemiring(np.ndarray):\n",
    "    def __new__(cls, x):\n",
    "        obj = np.asarray(x).view(cls)\n",
    "        return obj\n",
    "    \n",
    "    def __add__(self, x):\n",
    "        x = np.array(x)\n",
    "        cat_vals = np.stack([self, x], axis=-1)\n",
    "        max_vals = cat_vals.min(axis=-1)\n",
    "        return self.__class__(max_vals)\n",
    "    \n",
    "    def __mul__(self, x):\n",
    "        x = np.array(x)\n",
    "        y = np.array(self)\n",
    "        return self.__class__(y + x)\n",
    "    \n",
    "    def __radd__(self, x):\n",
    "        return self.__add__(x)\n",
    "    \n",
    "    def __rmul__(self, x):\n",
    "        return self.__mul__(x)"
   ]
  },
  {
   "cell_type": "code",
   "execution_count": 5,
   "metadata": {},
   "outputs": [
    {
     "data": {
      "text/plain": [
       "(LogSemiring([[0.69314718, 1.69314718, 2.69314718, 3.69314718, 4.69314718]]),\n",
       " LogSemiring([[0.69314718, 1.12692801, 2.01814993, 3.00247569, 4.00033541]]),\n",
       " LogSemiring([[0, 0, 0, 0, 0]]))"
      ]
     },
     "execution_count": 5,
     "metadata": {},
     "output_type": "execute_result"
    }
   ],
   "source": [
    "al = LogSemiring(a)\n",
    "bl = LogSemiring(b)\n",
    "al + al, al + bl, al*bl"
   ]
  },
  {
   "cell_type": "code",
   "execution_count": 6,
   "metadata": {},
   "outputs": [
    {
     "data": {
      "text/plain": [
       "(MaxPlusSemiring([[0, 1, 2, 3, 4]]),\n",
       " MaxPlusSemiring([[0, 1, 2, 3, 4]]),\n",
       " MaxPlusSemiring([[0, 0, 0, 0, 0]]))"
      ]
     },
     "execution_count": 6,
     "metadata": {},
     "output_type": "execute_result"
    }
   ],
   "source": [
    "al = MaxPlusSemiring(a)\n",
    "bl = MaxPlusSemiring(b)\n",
    "al + al, al + bl, al*bl"
   ]
  },
  {
   "cell_type": "code",
   "execution_count": 7,
   "metadata": {},
   "outputs": [
    {
     "data": {
      "text/plain": [
       "(MinPlusSemiring([[0, 1, 2, 3, 4]]),\n",
       " MinPlusSemiring([[ 0, -1, -2, -3, -4]]),\n",
       " MinPlusSemiring([[0, 0, 0, 0, 0]]))"
      ]
     },
     "execution_count": 7,
     "metadata": {},
     "output_type": "execute_result"
    }
   ],
   "source": [
    "al = MinPlusSemiring(a)\n",
    "bl = MinPlusSemiring(b)\n",
    "al + al, al + bl, al*bl"
   ]
  },
  {
   "cell_type": "code",
   "execution_count": null,
   "metadata": {},
   "outputs": [],
   "source": []
  }
 ],
 "metadata": {
  "kernelspec": {
   "display_name": "Python 3",
   "language": "python",
   "name": "python3"
  },
  "language_info": {
   "codemirror_mode": {
    "name": "ipython",
    "version": 3
   },
   "file_extension": ".py",
   "mimetype": "text/x-python",
   "name": "python",
   "nbconvert_exporter": "python",
   "pygments_lexer": "ipython3",
   "version": "3.7.3"
  }
 },
 "nbformat": 4,
 "nbformat_minor": 4
}
